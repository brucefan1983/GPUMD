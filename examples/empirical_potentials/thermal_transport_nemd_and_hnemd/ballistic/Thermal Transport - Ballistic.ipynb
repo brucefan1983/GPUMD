{
 "cells": [
  {
   "cell_type": "markdown",
   "metadata": {},
   "source": [
    "# Thermal Transport from NEMD\n",
    "## Introduction\n",
    "- In this tutorial, we use the NEMD method to study heat transport in graphene at 300 K and zero pressure. Here we consider the ballistic regime. The diffusive regime can be found in the HNEMD example. The spectral decomposition method as described in [[Fan 2019]](https://doi.org/10.1103/PhysRevB.99.064308) is used here."
   ]
  },
  {
   "cell_type": "markdown",
   "metadata": {},
   "source": [
    "### Importing Relevant Functions\n",
    "- The inputs/outputs for GPUMD are processed using the [Atomic Simulation Environment (ASE)](https://wiki.fysik.dtu.dk/ase/) and the [thermo](https://github.com/AlexGabourie/thermo) package."
   ]
  },
  {
   "cell_type": "code",
   "execution_count": 1,
   "metadata": {},
   "outputs": [],
   "source": [
    "from pylab import *\n",
    "from ase.io import write\n",
    "from thermo.gpumd.preproc import add_group_by_position\n",
    "from thermo.gpumd.data import load_shc,load_compute\n",
    "from ase.build import graphene_nanoribbon"
   ]
  },
  {
   "cell_type": "markdown",
   "metadata": {},
   "source": [
    "## Preparing the Inputs\n",
    "- We consider a graphene sheet of size of about 25 nm x 43 nm (40400 atoms). The transport is in the $y$ direction. We divide the length in the $y$ direction into 9 groups. Group 0 (a small one) will be fixed. Group 1 (about 9 nm long) will act as a heat source and group 8 (about 9 nm long) will act as a sink. The remaining middle part is evenly divided into a few groups (group 2 to group 7).\n",
    "- We use a Tersoff potential [[Tersoff 1989]](https://doi.org/10.1103/PhysRevB.39.5566) parameterized by Lindsay *et al.* [[Lindsay 2010]](https://journals.aps.org/prb/abstract/10.1103/PhysRevB.81.205441).\n",
    "\n",
    "## Generate the  [model.xyz](https://gpumd.zheyongfan.org/index.php/The_model.xyz_input_file) file:"
   ]
  },
  {
   "cell_type": "code",
   "execution_count": 2,
   "metadata": {},
   "outputs": [
    {
     "data": {
      "text/plain": [
       "Atoms(symbols='C40400', pbc=[True, True, False], cell=[245.95121467478057, 430.26, 3.35])"
      ]
     },
     "execution_count": 2,
     "metadata": {},
     "output_type": "execute_result"
    }
   ],
   "source": [
    "gnr = graphene_nanoribbon(100, 101, type='armchair', sheet=True, vacuum=3.35/2)\n",
    "# Rotate to match example\n",
    "gnr.euler_rotate(theta=90)\n",
    "l = gnr.cell.lengths()\n",
    "gnr.cell = gnr.cell.new((l[0], l[2], l[1]))\n",
    "l = l[2]\n",
    "gnr.center()\n",
    "gnr.pbc = [True, True, False]\n",
    "gnr"
   ]
  },
  {
   "cell_type": "markdown",
   "metadata": {},
   "source": [
    "#### Add Groups for NEMD"
   ]
  },
  {
   "cell_type": "code",
   "execution_count": 3,
   "metadata": {},
   "outputs": [
    {
     "name": "stdout",
     "output_type": "stream",
     "text": [
      "[0, 3.9026, 89.5546, 132.1806, 174.8066, 217.4326, 260.0586, 302.6846, 345.31059999999997, 430.26]\n"
     ]
    }
   ],
   "source": [
    "split = array([l/100] + [l/5] + [l/10]*6)-0.4\n",
    "split = [0] + list(cumsum(split)) + [l]\n",
    "print(split)"
   ]
  },
  {
   "cell_type": "code",
   "execution_count": 4,
   "metadata": {},
   "outputs": [
    {
     "name": "stdout",
     "output_type": "stream",
     "text": [
      "Atoms per group: [400, 8000, 4000, 4000, 4000, 4000, 4000, 4000, 8000]\n",
      "Total atoms: 40400\n"
     ]
    }
   ],
   "source": [
    "ncounts = add_group_by_position(split, gnr, direction='y')\n",
    "print(\"Atoms per group:\", ncounts)\n",
    "print(\"Total atoms:\", sum(ncounts))"
   ]
  },
  {
   "cell_type": "code",
   "execution_count": 7,
   "metadata": {},
   "outputs": [],
   "source": [
    "write(\"model.xyz\", gnr, write_info = False) \n",
    "\n",
    "with open(\"model.xyz\", \"r\") as fin:\n",
    "    lines = fin.readlines() \n",
    "\n",
    "lines[1] = lines[1].split(\"R:3\")[0] + \"R:3:group:I:1\" + lines[1].split(\"R:3\")[1]\n",
    "for i in range(len(lines) - 2):\n",
    "    group_id = gnr.info[i][\"groups\"][0]\n",
    "    lines[i + 2] = lines[i + 2][:-2] + f\"\\t{group_id}\\n\"\n",
    "    \n",
    "with open(\"model.xyz\", \"w\") as fout:\n",
    "    fout.writelines(lines)\n"
   ]
  },
  {
   "cell_type": "markdown",
   "metadata": {},
   "source": [
    "## The <code>run.in</code> file:\n",
    "The <code>run.in</code> input file is given below:<br>\n",
    "```\n",
    "potential    ../../../../potentials/tersoff/Graphene_Lindsay_2010_modified.txt\n",
    "velocity     300\n",
    "\n",
    "ensemble     nvt_ber 300 300 100\n",
    "fix          0\n",
    "time_step    1 \n",
    "dump_thermo  1000        \n",
    "run          100000\n",
    "\n",
    "ensemble     heat_lan 300 100 10 1 8 \n",
    "fix          0\n",
    "compute      0 10 100 temperature\n",
    "compute_shc  2 250 1 1000 400.0 group 0 4\n",
    "run          1000000\n",
    "```\n",
    "\n",
    "- The first line uses the [potential](https://gpumd.zheyongfan.org/index.php/The_potential_keyword) keyword to define the potential to be used, which is specified in the file [Graphene_Lindsay_2010_modified.txt](https://github.com/brucefan1983/GPUMD/blob/master/potentials/tersoff/Graphene_Lindsay_2010_modified.txt).\n",
    "\n",
    "- The second line uses the [velocity](https://gpumd.zheyongfan.org/index.php/The_velocity_keyword) keyword and sets the velocities to be initialized with a temperature of 300 K. \n",
    "\n",
    "- There are two runs. The first [run](https://gpumd.zheyongfan.org/index.php/The_run_keyword) serves as the equilibration stage.\n",
    "  - Here, the NVT [ensemble](https://gpumd.zheyongfan.org/index.php/The_ensemble_keyword) (the Berendsen thermostat) is used. The target temperature is 300 K and the coupling constant is 100 time steps for the thermostat. \n",
    "  - The [time_step](https://gpumd.zheyongfan.org/index.php/The_time_step_keyword) for integration is 1 fs. \n",
    "  - Atoms in group 0 will be fixed. \n",
    "  - The thermodynamic quantities will be output every 1000 steps. \n",
    "  - There are $10^5$ steps (100 ps) for this run. \n",
    "- The second [run](https://gpumd.zheyongfan.org/index.php/The_run_keyword) is for production. \n",
    "  - Here, two local Langevin thermostats ([ensemble](https://gpumd.zheyongfan.org/index.php/The_ensemble_keyword)) are applied to generate a nonequilibrium heat current. The time parameter in the Langevin thermostats is 0.1 ps (100 time steps). The target temperature of the heat source is $300+10=310$ K and the target temperature of the heat sink is $300-10=290$ K. Atoms in group 1 are in the heat source region and atoms in group 8 are in the heat sink region.\n",
    "  - Atoms in group 0 will be fixed. \n",
    "  - The [compute](https://gpumd.zheyongfan.org/index.php/The_compute_keyword) is used to compute the group temperatures and energy transfer rate. Here, grouping method 0 is used, and the relevant data are sampled every 10 time steps and averaged for every 100 data points before written out. \n",
    "  - The line with the [compute_shc](https://gpumd.zheyongfan.org/index.php/The_compute_shc_keyword) keyword is used to compute the spectral heat current (SHC). The SHC will be calculated for group <code>4</code> in grouping method <code>0</code>. The relevant data will be sampled every 2 steps and the maximum correlation time is $250 \\times 2 \\times 1~{\\rm fs} = 500~{\\rm fs}$. The transport directions is <code>1</code> ($y$ direction). The number of frequency points is 1000 and the maximum angular frequncy is 400 THz.\n",
    "  - There are $10^6$ steps (1 ns) in the production [run](https://gpumd.zheyongfan.org/index.php/The_run_keyword). This is just an example. To get more accurate results, we suggest you use $10^7$ steps (10 ns)."
   ]
  },
  {
   "cell_type": "markdown",
   "metadata": {},
   "source": [
    "## Results and Discussion\n",
    "### Computation Time\n",
    "- Using a GeForce RTX 2080 Ti GPU, the NEMD simulation takes about 15 minutes."
   ]
  },
  {
   "cell_type": "markdown",
   "metadata": {},
   "source": [
    "### Figure Properties"
   ]
  },
  {
   "cell_type": "code",
   "execution_count": 8,
   "metadata": {},
   "outputs": [],
   "source": [
    "aw = 2\n",
    "fs = 16\n",
    "font = {'size'   : fs}\n",
    "matplotlib.rc('font', **font)\n",
    "matplotlib.rc('axes' , linewidth=aw)\n",
    "\n",
    "def set_fig_properties(ax_list):\n",
    "    tl = 8\n",
    "    tw = 2\n",
    "    tlm = 4\n",
    "    \n",
    "    for ax in ax_list:\n",
    "        ax.tick_params(which='major', length=tl, width=tw)\n",
    "        ax.tick_params(which='minor', length=tlm, width=tw)\n",
    "        ax.tick_params(axis='both', direction='in', right=True, top=True)"
   ]
  },
  {
   "cell_type": "markdown",
   "metadata": {},
   "source": [
    "## Plot NEMD Results\n",
    " - The [compute.out](https://gpumd.zheyongfan.org/index.php/The_compute_keyword) output file is loaded and processed to create the following figure."
   ]
  },
  {
   "cell_type": "code",
   "execution_count": 9,
   "metadata": {},
   "outputs": [
    {
     "data": {
      "text/plain": [
       "dict_keys(['Ein', 'Eout', 'm', 'T'])"
      ]
     },
     "execution_count": 9,
     "metadata": {},
     "output_type": "execute_result"
    }
   ],
   "source": [
    "compute = load_compute(['T'])\n",
    "compute.keys()"
   ]
  },
  {
   "cell_type": "code",
   "execution_count": 10,
   "metadata": {},
   "outputs": [],
   "source": [
    "T = compute['T']\n",
    "Ein = compute['Ein']\n",
    "Eout = compute['Eout']\n",
    "ndata = T.shape[0]\n",
    "temp_ave = mean(T[int(ndata/2)+1:, 1:], axis=0)\n",
    "\n",
    "dt = 0.001  # ps \n",
    "Ns = 1000  # Sample interval\n",
    "t = dt*np.arange(1,ndata+1) * Ns/1000  # ns"
   ]
  },
  {
   "cell_type": "code",
   "execution_count": 11,
   "metadata": {},
   "outputs": [
    {
     "data": {
      "image/png": "[encoded data removed]",
      "text/plain": [
       "<Figure size 720x360 with 2 Axes>"
      ]
     },
     "metadata": {
      "needs_background": "light"
     },
     "output_type": "display_data"
    }
   ],
   "source": [
    "figure(figsize=(10,5))\n",
    "subplot(1,2,1)\n",
    "set_fig_properties([gca()])\n",
    "group_idx = range(1,9)\n",
    "plot(group_idx, temp_ave,linewidth=3,marker='o',markersize=10)\n",
    "xlim([1, 8])\n",
    "gca().set_xticks(group_idx)\n",
    "ylim([290, 310])\n",
    "gca().set_yticks(range(290,311,5))\n",
    "xlabel('group index')\n",
    "ylabel('T (K)')\n",
    "title('(a)')\n",
    "\n",
    "subplot(1,2,2)\n",
    "set_fig_properties([gca()])\n",
    "plot(t, Ein/1000, 'C3', linewidth=3)\n",
    "plot(t, Eout/1000, 'C0', linewidth=3, linestyle='--' )\n",
    "xlim([0, 1])\n",
    "gca().set_xticks(linspace(0,1,6))\n",
    "ylim([-10, 10])\n",
    "gca().set_yticks(range(-10,11,5))\n",
    "xlabel('t (ns)')\n",
    "ylabel('Heat (keV)')\n",
    "title('(b)')\n",
    "tight_layout()\n",
    "show()"
   ]
  },
  {
   "cell_type": "markdown",
   "metadata": {},
   "source": [
    "**(a)** Temperature profile in the NEMD simulation. **(b)** Energies accumulated in the thermostats."
   ]
  },
  {
   "cell_type": "markdown",
   "metadata": {},
   "source": [
    "- The figure above shows the temperature profile and the energies accumulated in the thermostats. The energy of the thermostat coupling to the heat source region is decreasing, because energy is transferred from the thermostat to the atoms in the source region. The energy of the thermostat coupling to the heat sink region is increasing, because energy is transferred from the atoms in the sink region to the thermostat. The absolute values of the slopes of the lines in **(b)** should be the same; otherwise it means energy is not conserved. The absolute slope is the energy transfer rate $Q=dE/dt$.\n",
    "- The thermal conductance in this system can be calculated as\n",
    "$$\n",
    "G = \\frac{Q/S}{\\Delta T}\n",
    "$$\n",
    "where $S$ is the cross-sectional area and $\\Delta T$ is the temperature difference, which is 19 K here (slightly smaller than the target value of 20 K). The calculated thermal conductance is about 10 GW m<sup>-2</sup> K<sup>-1</sup>. This is the classical value."
   ]
  },
  {
   "cell_type": "code",
   "execution_count": 12,
   "metadata": {},
   "outputs": [
    {
     "data": {
      "text/plain": [
       "19.04638256513016"
      ]
     },
     "execution_count": 12,
     "metadata": {},
     "output_type": "execute_result"
    }
   ],
   "source": [
    "deltaT = temp_ave[0] - temp_ave[-1]  # [K]\n",
    "deltaT"
   ]
  },
  {
   "cell_type": "code",
   "execution_count": 13,
   "metadata": {},
   "outputs": [
    {
     "data": {
      "text/plain": [
       "9.635182"
      ]
     },
     "execution_count": 13,
     "metadata": {},
     "output_type": "execute_result"
    }
   ],
   "source": [
    "Q1 = (Ein[int(ndata/2)] - Ein[-1])/(ndata/2)/dt/Ns\n",
    "Q2 = (Eout[-1] - Eout[int(ndata/2)])/(ndata/2)/dt/Ns\n",
    "Q = mean([Q1, Q1])  # [eV/ps]\n",
    "Q"
   ]
  },
  {
   "cell_type": "code",
   "execution_count": 14,
   "metadata": {},
   "outputs": [
    {
     "data": {
      "text/plain": [
       "9.82366678786541"
      ]
     },
     "execution_count": 14,
     "metadata": {},
     "output_type": "execute_result"
    }
   ],
   "source": [
    "l = gnr.cell.lengths()\n",
    "A = l[0]*l[2]/100  # [nm2]\n",
    "G = 160*Q/deltaT/A  # [GW/m2/K]\n",
    "G"
   ]
  },
  {
   "cell_type": "markdown",
   "metadata": {},
   "source": [
    "## Plot Spectral Heat Current Results\n",
    " - The [shc.out](https://gpumd.zheyongfan.org/index.php/The_shc.out_output_file) output file is loaded and processed to create the following figure."
   ]
  },
  {
   "cell_type": "code",
   "execution_count": 15,
   "metadata": {},
   "outputs": [
    {
     "data": {
      "text/plain": [
       "dict_keys(['t', 'Ki', 'Ko', 'nu', 'jwi', 'jwo'])"
      ]
     },
     "execution_count": 15,
     "metadata": {},
     "output_type": "execute_result"
    }
   ],
   "source": [
    "shc = load_shc(250, 1000)['run0']\n",
    "shc.keys()"
   ]
  },
  {
   "cell_type": "code",
   "execution_count": 16,
   "metadata": {},
   "outputs": [],
   "source": [
    "Ly = split[5]-split[4]\n",
    "Lx, Lz = l[0], l[2]\n",
    "V = Lx*Ly*Lz\n",
    "Gc = 1.6e4*(shc['jwi']+shc['jwo'])/V/deltaT"
   ]
  },
  {
   "cell_type": "code",
   "execution_count": 17,
   "metadata": {},
   "outputs": [
    {
     "data": {
      "image/png": "[encoded data removed]",
      "text/plain": [
       "<Figure size 720x360 with 2 Axes>"
      ]
     },
     "metadata": {
      "needs_background": "light"
     },
     "output_type": "display_data"
    }
   ],
   "source": [
    "figure(figsize=(10,5))\n",
    "subplot(1,2,1)\n",
    "set_fig_properties([gca()])\n",
    "plot(shc['t'], (shc['Ki']+shc['Ko'])/Ly, linewidth=2)\n",
    "xlim([-0.5, 0.5])\n",
    "gca().set_xticks([-0.5, 0, 0.5])\n",
    "ylim([-4, 10])\n",
    "gca().set_yticks(range(-4,11,2))\n",
    "ylabel('K (eV/ps)')\n",
    "xlabel('Correlation time (ps)')\n",
    "title('(a)')\n",
    "\n",
    "subplot(1,2,2)\n",
    "set_fig_properties([gca()])\n",
    "plot(shc['nu'], Gc, linewidth=2)\n",
    "xlim([0, 50])\n",
    "gca().set_xticks(range(0,51,10))\n",
    "ylim([0, 0.35])\n",
    "gca().set_yticks(linspace(0,0.35,8))\n",
    "ylabel(r'$G$($\\omega$) (GW/m$^2$/K/THz)')\n",
    "xlabel(r'$\\omega$/2$\\pi$ (THz)')\n",
    "title('(b)')\n",
    "tight_layout()\n",
    "show()"
   ]
  },
  {
   "cell_type": "markdown",
   "metadata": {},
   "source": [
    "**(a)** Virial-velocity correlation function. **(b)** Spectral thermal conductance."
   ]
  },
  {
   "cell_type": "markdown",
   "metadata": {},
   "source": [
    "- The figure above shows the virial-velocity correlation function $K(t)$ and the spectral thermal conductance $G(\\omega)$. See [Theoretical formulations](https://gpumd.zheyongfan.org/index.php/Theoretical_formulations) for the definitions of these quantities. Using the spectral thermal conductance, one can perform quantum correction, see [[Li 2019]](https://doi.org/10.1063/1.5132543)."
   ]
  },
  {
   "cell_type": "code",
   "execution_count": 18,
   "metadata": {},
   "outputs": [],
   "source": [
    "np.save('../diffusive/Gc.npy', Gc)"
   ]
  },
  {
   "cell_type": "markdown",
   "metadata": {},
   "source": [
    "## References\n",
    "- [Fan 2019] Zheyong Fan, Haikuan Dong, Ari Harju, and Tapio Ala-Nissila, [Homogeneous nonequilibrium molecular dynamics method for heat transport and spectral decomposition with many-body potentials](https://doi.org/10.1103/PhysRevB.99.064308), Phys. Rev. B **99**, 064308 (2019).\n",
    "- [Li 2019] Zhen Li, Shiyun Xiong, Charles Sievers, Yue Hu, Zheyong Fan, Ning Wei, Hua Bao, Shunda Chen, Davide Donadio, and Tapio Ala-Nissila, [Influence of Thermostatting on Nonequilibrium Molecular Dynamics Simulations of Heat Conduction in Solids](https://doi.org/10.1063/1.5132543), J. Chem. Phys. **151**, 234105 (2019).\n",
    "- [Lindsay 2010] L. Lindsay and D.A. Broido, [Optimized Tersoff and Brenner emperical potential parameters for lattice dynamics and phonon thermal transport in carbon nanotubes and graphene](https://doi.org/10.1103/PhysRevB.39.5566), Phys. Rev. B, **81**, 205441 (2010).\n",
    "- [Tersoff 1989] J. Tersoff, [Modeling solid-state chemistry: Interatomic potentials for multicomponent systems](https://doi.org/10.1103/PhysRevB.39.5566), Phys. Rev. B 39, 5566(R) (1989)."
   ]
  }
 ],
 "metadata": {
  "kernelspec": {
   "display_name": "Python 3",
   "language": "python",
   "name": "python3"
  },
  "language_info": {
   "codemirror_mode": {
    "name": "ipython",
    "version": 3
   },
   "file_extension": ".py",
   "mimetype": "text/x-python",
   "name": "python",
   "nbconvert_exporter": "python",
   "pygments_lexer": "ipython3",
   "version": "3.8.5"
  }
 },
 "nbformat": 4,
 "nbformat_minor": 2
}
